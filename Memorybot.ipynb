{
 "cells": [
  {
   "cell_type": "code",
   "execution_count": 0,
   "metadata": {
    "application/vnd.databricks.v1+cell": {
     "cellMetadata": {
      "byteLimit": 2048000,
      "rowLimit": 10000
     },
     "inputWidgets": {},
     "nuid": "584e3e9a-eeb0-4fbe-9bfd-cc854abea1ba",
     "showTitle": false,
     "title": ""
    }
   },
   "outputs": [
    {
     "output_type": "stream",
     "name": "stdout",
     "output_type": "stream",
     "text": [
      "\u001B[43mNote: you may need to restart the kernel using dbutils.library.restartPython() to use updated packages.\u001B[0m\nRequirement already satisfied: langchain in /local_disk0/.ephemeral_nfs/envs/pythonEnv-dd8adaad-12f5-4248-803d-17cdd89bc16e/lib/python3.10/site-packages (0.2.12)\nRequirement already satisfied: aiohttp<4.0.0,>=3.8.3 in /local_disk0/.ephemeral_nfs/envs/pythonEnv-dd8adaad-12f5-4248-803d-17cdd89bc16e/lib/python3.10/site-packages (from langchain) (3.10.2)\nRequirement already satisfied: langsmith<0.2.0,>=0.1.17 in /local_disk0/.ephemeral_nfs/envs/pythonEnv-dd8adaad-12f5-4248-803d-17cdd89bc16e/lib/python3.10/site-packages (from langchain) (0.1.98)\nRequirement already satisfied: langchain-core<0.3.0,>=0.2.27 in /local_disk0/.ephemeral_nfs/envs/pythonEnv-dd8adaad-12f5-4248-803d-17cdd89bc16e/lib/python3.10/site-packages (from langchain) (0.2.29)\nRequirement already satisfied: requests<3,>=2 in /databricks/python3/lib/python3.10/site-packages (from langchain) (2.28.1)\nRequirement already satisfied: pydantic<3,>=1 in /databricks/python3/lib/python3.10/site-packages (from langchain) (1.10.6)\nRequirement already satisfied: SQLAlchemy<3,>=1.4 in /local_disk0/.ephemeral_nfs/envs/pythonEnv-dd8adaad-12f5-4248-803d-17cdd89bc16e/lib/python3.10/site-packages (from langchain) (2.0.32)\nRequirement already satisfied: PyYAML>=5.3 in /local_disk0/.ephemeral_nfs/envs/pythonEnv-dd8adaad-12f5-4248-803d-17cdd89bc16e/lib/python3.10/site-packages (from langchain) (6.0.2)\nRequirement already satisfied: async-timeout<5.0.0,>=4.0.0 in /local_disk0/.ephemeral_nfs/envs/pythonEnv-dd8adaad-12f5-4248-803d-17cdd89bc16e/lib/python3.10/site-packages (from langchain) (4.0.3)\nRequirement already satisfied: langchain-text-splitters<0.3.0,>=0.2.0 in /local_disk0/.ephemeral_nfs/envs/pythonEnv-dd8adaad-12f5-4248-803d-17cdd89bc16e/lib/python3.10/site-packages (from langchain) (0.2.2)\nRequirement already satisfied: numpy<2,>=1 in /databricks/python3/lib/python3.10/site-packages (from langchain) (1.23.5)\nRequirement already satisfied: tenacity!=8.4.0,<9.0.0,>=8.1.0 in /databricks/python3/lib/python3.10/site-packages (from langchain) (8.1.0)\nRequirement already satisfied: multidict<7.0,>=4.5 in /local_disk0/.ephemeral_nfs/envs/pythonEnv-dd8adaad-12f5-4248-803d-17cdd89bc16e/lib/python3.10/site-packages (from aiohttp<4.0.0,>=3.8.3->langchain) (6.0.5)\nRequirement already satisfied: aiosignal>=1.1.2 in /local_disk0/.ephemeral_nfs/envs/pythonEnv-dd8adaad-12f5-4248-803d-17cdd89bc16e/lib/python3.10/site-packages (from aiohttp<4.0.0,>=3.8.3->langchain) (1.3.1)\nRequirement already satisfied: attrs>=17.3.0 in /databricks/python3/lib/python3.10/site-packages (from aiohttp<4.0.0,>=3.8.3->langchain) (22.1.0)\nRequirement already satisfied: aiohappyeyeballs>=2.3.0 in /local_disk0/.ephemeral_nfs/envs/pythonEnv-dd8adaad-12f5-4248-803d-17cdd89bc16e/lib/python3.10/site-packages (from aiohttp<4.0.0,>=3.8.3->langchain) (2.3.5)\nRequirement already satisfied: frozenlist>=1.1.1 in /local_disk0/.ephemeral_nfs/envs/pythonEnv-dd8adaad-12f5-4248-803d-17cdd89bc16e/lib/python3.10/site-packages (from aiohttp<4.0.0,>=3.8.3->langchain) (1.4.1)\nRequirement already satisfied: yarl<2.0,>=1.0 in /local_disk0/.ephemeral_nfs/envs/pythonEnv-dd8adaad-12f5-4248-803d-17cdd89bc16e/lib/python3.10/site-packages (from aiohttp<4.0.0,>=3.8.3->langchain) (1.9.4)\nRequirement already satisfied: packaging<25,>=23.2 in /databricks/python3/lib/python3.10/site-packages (from langchain-core<0.3.0,>=0.2.27->langchain) (23.2)\nRequirement already satisfied: typing-extensions>=4.7 in /local_disk0/.ephemeral_nfs/envs/pythonEnv-dd8adaad-12f5-4248-803d-17cdd89bc16e/lib/python3.10/site-packages (from langchain-core<0.3.0,>=0.2.27->langchain) (4.12.2)\nRequirement already satisfied: jsonpatch<2.0,>=1.33 in /local_disk0/.ephemeral_nfs/envs/pythonEnv-dd8adaad-12f5-4248-803d-17cdd89bc16e/lib/python3.10/site-packages (from langchain-core<0.3.0,>=0.2.27->langchain) (1.33)\nRequirement already satisfied: orjson<4.0.0,>=3.9.14 in /local_disk0/.ephemeral_nfs/envs/pythonEnv-dd8adaad-12f5-4248-803d-17cdd89bc16e/lib/python3.10/site-packages (from langsmith<0.2.0,>=0.1.17->langchain) (3.10.6)\nRequirement already satisfied: idna<4,>=2.5 in /databricks/python3/lib/python3.10/site-packages (from requests<3,>=2->langchain) (3.4)\nRequirement already satisfied: certifi>=2017.4.17 in /databricks/python3/lib/python3.10/site-packages (from requests<3,>=2->langchain) (2022.12.7)\nRequirement already satisfied: charset-normalizer<3,>=2 in /databricks/python3/lib/python3.10/site-packages (from requests<3,>=2->langchain) (2.0.4)\nRequirement already satisfied: urllib3<1.27,>=1.21.1 in /databricks/python3/lib/python3.10/site-packages (from requests<3,>=2->langchain) (1.26.14)\nRequirement already satisfied: greenlet!=0.4.17 in /local_disk0/.ephemeral_nfs/envs/pythonEnv-dd8adaad-12f5-4248-803d-17cdd89bc16e/lib/python3.10/site-packages (from SQLAlchemy<3,>=1.4->langchain) (3.0.3)\nRequirement already satisfied: jsonpointer>=1.9 in /local_disk0/.ephemeral_nfs/envs/pythonEnv-dd8adaad-12f5-4248-803d-17cdd89bc16e/lib/python3.10/site-packages (from jsonpatch<2.0,>=1.33->langchain-core<0.3.0,>=0.2.27->langchain) (3.0.0)\n\u001B[43mNote: you may need to restart the kernel using dbutils.library.restartPython() to use updated packages.\u001B[0m\n\u001B[43mNote: you may need to restart the kernel using dbutils.library.restartPython() to use updated packages.\u001B[0m\nCollecting typing\n  Downloading typing-3.7.4.3.tar.gz (78 kB)\n     ━━━━━━━━━━━━━━━━━━━━━━━━━━━━━━━━━━━━━━━━ 78.6/78.6 kB 2.8 MB/s eta 0:00:00\n  Preparing metadata (setup.py): started\n  Preparing metadata (setup.py): finished with status 'done'\nBuilding wheels for collected packages: typing\n  Building wheel for typing (setup.py): started\n  Building wheel for typing (setup.py): finished with status 'done'\n  Created wheel for typing: filename=typing-3.7.4.3-py3-none-any.whl size=26304 sha256=0a65df391c4999d1be11bbe1fb6359a6a1537720ed87104a1752bf1ce9ee30bf\n  Stored in directory: /home/spark-dd8adaad-12f5-4248-803d-17/.cache/pip/wheels/e5/23/95/593222493ec6253200e94e4a5ee4361d12112000816d840434\nSuccessfully built typing\nInstalling collected packages: typing\nSuccessfully installed typing-3.7.4.3\n\u001B[43mNote: you may need to restart the kernel using dbutils.library.restartPython() to use updated packages.\u001B[0m\n\u001B[43mNote: you may need to restart the kernel using dbutils.library.restartPython() to use updated packages.\u001B[0m\nRequirement already satisfied: typing_extensions in /local_disk0/.ephemeral_nfs/envs/pythonEnv-dd8adaad-12f5-4248-803d-17cdd89bc16e/lib/python3.10/site-packages (4.12.2)\n\u001B[43mNote: you may need to restart the kernel using dbutils.library.restartPython() to use updated packages.\u001B[0m\n"
     ]
    }
   ],
   "source": [
    "%pip install langchain\n",
    "%pip install typing\n",
    "%pip install --upgrade typing_extensions"
   ]
  },
  {
   "cell_type": "code",
   "execution_count": 0,
   "metadata": {
    "application/vnd.databricks.v1+cell": {
     "cellMetadata": {
      "byteLimit": 2048000,
      "rowLimit": 10000
     },
     "inputWidgets": {},
     "nuid": "0658a51e-826d-44ba-9ee1-199f711caba7",
     "showTitle": false,
     "title": ""
    }
   },
   "outputs": [],
   "source": [
    "dbutils.library.restartPython()"
   ]
  },
  {
   "cell_type": "code",
   "execution_count": 0,
   "metadata": {
    "application/vnd.databricks.v1+cell": {
     "cellMetadata": {
      "byteLimit": 2048000,
      "rowLimit": 10000
     },
     "inputWidgets": {},
     "nuid": "c5dce277-d1fe-47f3-a022-e9b3967f7e85",
     "showTitle": false,
     "title": ""
    }
   },
   "outputs": [],
   "source": [
    "from langchain.chains import LLMChain\n",
    "from langchain.memory import ConversationBufferMemory\n",
    "from langchain_core.prompts import PromptTemplate\n"
   ]
  },
  {
   "cell_type": "code",
   "execution_count": 0,
   "metadata": {
    "application/vnd.databricks.v1+cell": {
     "cellMetadata": {
      "byteLimit": 2048000,
      "rowLimit": 10000
     },
     "inputWidgets": {},
     "nuid": "da688757-db73-4d48-a84e-70f16461afca",
     "showTitle": false,
     "title": ""
    }
   },
   "outputs": [],
   "source": [
    "template = \"\"\"You are a chatbot having a conversation with a human.\n",
    "\n",
    "{chat_history}\n",
    "Human: {human_input}\n",
    "Chatbot:\"\"\"\n",
    "\n",
    "prompt = PromptTemplate(\n",
    "    input_variables=[\"chat_history\", \"human_input\"], template=template\n",
    ")\n",
    "memory = ConversationBufferMemory(memory_key=\"chat_history\")"
   ]
  },
  {
   "cell_type": "code",
   "execution_count": 0,
   "metadata": {
    "application/vnd.databricks.v1+cell": {
     "cellMetadata": {
      "byteLimit": 2048000,
      "rowLimit": 10000
     },
     "inputWidgets": {},
     "nuid": "354792ed-18cc-4efd-80ca-14f5a8602058",
     "showTitle": false,
     "title": ""
    }
   },
   "outputs": [
    {
     "output_type": "stream",
     "name": "stdout",
     "output_type": "stream",
     "text": [
      "\u001B[43mNote: you may need to restart the kernel using dbutils.library.restartPython() to use updated packages.\u001B[0m\nRequirement already satisfied: langchain_community in /local_disk0/.ephemeral_nfs/envs/pythonEnv-dd8adaad-12f5-4248-803d-17cdd89bc16e/lib/python3.10/site-packages (0.2.11)\nRequirement already satisfied: requests<3,>=2 in /databricks/python3/lib/python3.10/site-packages (from langchain_community) (2.28.1)\nRequirement already satisfied: tenacity!=8.4.0,<9.0.0,>=8.1.0 in /databricks/python3/lib/python3.10/site-packages (from langchain_community) (8.1.0)\nRequirement already satisfied: aiohttp<4.0.0,>=3.8.3 in /local_disk0/.ephemeral_nfs/envs/pythonEnv-dd8adaad-12f5-4248-803d-17cdd89bc16e/lib/python3.10/site-packages (from langchain_community) (3.10.2)\nRequirement already satisfied: SQLAlchemy<3,>=1.4 in /local_disk0/.ephemeral_nfs/envs/pythonEnv-dd8adaad-12f5-4248-803d-17cdd89bc16e/lib/python3.10/site-packages (from langchain_community) (2.0.32)\nRequirement already satisfied: langsmith<0.2.0,>=0.1.0 in /local_disk0/.ephemeral_nfs/envs/pythonEnv-dd8adaad-12f5-4248-803d-17cdd89bc16e/lib/python3.10/site-packages (from langchain_community) (0.1.98)\nRequirement already satisfied: PyYAML>=5.3 in /local_disk0/.ephemeral_nfs/envs/pythonEnv-dd8adaad-12f5-4248-803d-17cdd89bc16e/lib/python3.10/site-packages (from langchain_community) (6.0.2)\nRequirement already satisfied: dataclasses-json<0.7,>=0.5.7 in /local_disk0/.ephemeral_nfs/envs/pythonEnv-dd8adaad-12f5-4248-803d-17cdd89bc16e/lib/python3.10/site-packages (from langchain_community) (0.6.7)\nRequirement already satisfied: numpy<2,>=1 in /databricks/python3/lib/python3.10/site-packages (from langchain_community) (1.23.5)\nRequirement already satisfied: langchain-core<0.3.0,>=0.2.27 in /local_disk0/.ephemeral_nfs/envs/pythonEnv-dd8adaad-12f5-4248-803d-17cdd89bc16e/lib/python3.10/site-packages (from langchain_community) (0.2.29)\nRequirement already satisfied: langchain<0.3.0,>=0.2.12 in /local_disk0/.ephemeral_nfs/envs/pythonEnv-dd8adaad-12f5-4248-803d-17cdd89bc16e/lib/python3.10/site-packages (from langchain_community) (0.2.12)\nRequirement already satisfied: aiosignal>=1.1.2 in /local_disk0/.ephemeral_nfs/envs/pythonEnv-dd8adaad-12f5-4248-803d-17cdd89bc16e/lib/python3.10/site-packages (from aiohttp<4.0.0,>=3.8.3->langchain_community) (1.3.1)\nRequirement already satisfied: aiohappyeyeballs>=2.3.0 in /local_disk0/.ephemeral_nfs/envs/pythonEnv-dd8adaad-12f5-4248-803d-17cdd89bc16e/lib/python3.10/site-packages (from aiohttp<4.0.0,>=3.8.3->langchain_community) (2.3.5)\nRequirement already satisfied: yarl<2.0,>=1.0 in /local_disk0/.ephemeral_nfs/envs/pythonEnv-dd8adaad-12f5-4248-803d-17cdd89bc16e/lib/python3.10/site-packages (from aiohttp<4.0.0,>=3.8.3->langchain_community) (1.9.4)\nRequirement already satisfied: frozenlist>=1.1.1 in /local_disk0/.ephemeral_nfs/envs/pythonEnv-dd8adaad-12f5-4248-803d-17cdd89bc16e/lib/python3.10/site-packages (from aiohttp<4.0.0,>=3.8.3->langchain_community) (1.4.1)\nRequirement already satisfied: multidict<7.0,>=4.5 in /local_disk0/.ephemeral_nfs/envs/pythonEnv-dd8adaad-12f5-4248-803d-17cdd89bc16e/lib/python3.10/site-packages (from aiohttp<4.0.0,>=3.8.3->langchain_community) (6.0.5)\nRequirement already satisfied: attrs>=17.3.0 in /databricks/python3/lib/python3.10/site-packages (from aiohttp<4.0.0,>=3.8.3->langchain_community) (22.1.0)\nRequirement already satisfied: async-timeout<5.0,>=4.0 in /local_disk0/.ephemeral_nfs/envs/pythonEnv-dd8adaad-12f5-4248-803d-17cdd89bc16e/lib/python3.10/site-packages (from aiohttp<4.0.0,>=3.8.3->langchain_community) (4.0.3)\nRequirement already satisfied: typing-inspect<1,>=0.4.0 in /local_disk0/.ephemeral_nfs/envs/pythonEnv-dd8adaad-12f5-4248-803d-17cdd89bc16e/lib/python3.10/site-packages (from dataclasses-json<0.7,>=0.5.7->langchain_community) (0.9.0)\nRequirement already satisfied: marshmallow<4.0.0,>=3.18.0 in /local_disk0/.ephemeral_nfs/envs/pythonEnv-dd8adaad-12f5-4248-803d-17cdd89bc16e/lib/python3.10/site-packages (from dataclasses-json<0.7,>=0.5.7->langchain_community) (3.21.3)\nRequirement already satisfied: langchain-text-splitters<0.3.0,>=0.2.0 in /local_disk0/.ephemeral_nfs/envs/pythonEnv-dd8adaad-12f5-4248-803d-17cdd89bc16e/lib/python3.10/site-packages (from langchain<0.3.0,>=0.2.12->langchain_community) (0.2.2)\nRequirement already satisfied: pydantic<3,>=1 in /databricks/python3/lib/python3.10/site-packages (from langchain<0.3.0,>=0.2.12->langchain_community) (1.10.6)\nRequirement already satisfied: typing-extensions>=4.7 in /local_disk0/.ephemeral_nfs/envs/pythonEnv-dd8adaad-12f5-4248-803d-17cdd89bc16e/lib/python3.10/site-packages (from langchain-core<0.3.0,>=0.2.27->langchain_community) (4.12.2)\nRequirement already satisfied: packaging<25,>=23.2 in /databricks/python3/lib/python3.10/site-packages (from langchain-core<0.3.0,>=0.2.27->langchain_community) (23.2)\nRequirement already satisfied: jsonpatch<2.0,>=1.33 in /local_disk0/.ephemeral_nfs/envs/pythonEnv-dd8adaad-12f5-4248-803d-17cdd89bc16e/lib/python3.10/site-packages (from langchain-core<0.3.0,>=0.2.27->langchain_community) (1.33)\nRequirement already satisfied: orjson<4.0.0,>=3.9.14 in /local_disk0/.ephemeral_nfs/envs/pythonEnv-dd8adaad-12f5-4248-803d-17cdd89bc16e/lib/python3.10/site-packages (from langsmith<0.2.0,>=0.1.0->langchain_community) (3.10.6)\nRequirement already satisfied: idna<4,>=2.5 in /databricks/python3/lib/python3.10/site-packages (from requests<3,>=2->langchain_community) (3.4)\nRequirement already satisfied: charset-normalizer<3,>=2 in /databricks/python3/lib/python3.10/site-packages (from requests<3,>=2->langchain_community) (2.0.4)\nRequirement already satisfied: urllib3<1.27,>=1.21.1 in /databricks/python3/lib/python3.10/site-packages (from requests<3,>=2->langchain_community) (1.26.14)\nRequirement already satisfied: certifi>=2017.4.17 in /databricks/python3/lib/python3.10/site-packages (from requests<3,>=2->langchain_community) (2022.12.7)\nRequirement already satisfied: greenlet!=0.4.17 in /local_disk0/.ephemeral_nfs/envs/pythonEnv-dd8adaad-12f5-4248-803d-17cdd89bc16e/lib/python3.10/site-packages (from SQLAlchemy<3,>=1.4->langchain_community) (3.0.3)\nRequirement already satisfied: jsonpointer>=1.9 in /local_disk0/.ephemeral_nfs/envs/pythonEnv-dd8adaad-12f5-4248-803d-17cdd89bc16e/lib/python3.10/site-packages (from jsonpatch<2.0,>=1.33->langchain-core<0.3.0,>=0.2.27->langchain_community) (3.0.0)\nRequirement already satisfied: mypy-extensions>=0.3.0 in /databricks/python3/lib/python3.10/site-packages (from typing-inspect<1,>=0.4.0->dataclasses-json<0.7,>=0.5.7->langchain_community) (0.4.3)\n\u001B[43mNote: you may need to restart the kernel using dbutils.library.restartPython() to use updated packages.\u001B[0m\n\u001B[43mNote: you may need to restart the kernel using dbutils.library.restartPython() to use updated packages.\u001B[0m\nCollecting mlflow\n  Downloading mlflow-2.15.1-py3-none-any.whl (26.3 MB)\n     ━━━━━━━━━━━━━━━━━━━━━━━━━━━━━━━━━━━━━━━━ 26.3/26.3 MB 40.8 MB/s eta 0:00:00\nCollecting gunicorn<23\n  Downloading gunicorn-22.0.0-py3-none-any.whl (84 kB)\n     ━━━━━━━━━━━━━━━━━━━━━━━━━━━━━━━━━━━━━━━━ 84.4/84.4 kB 14.5 MB/s eta 0:00:00\nCollecting querystring-parser<2\n  Downloading querystring_parser-1.2.4-py2.py3-none-any.whl (7.9 kB)\nCollecting markdown<4,>=3.3\n  Downloading Markdown-3.6-py3-none-any.whl (105 kB)\n     ━━━━━━━━━━━━━━━━━━━━━━━━━━━━━━━━━━━━━━ 105.4/105.4 kB 13.5 MB/s eta 0:00:00\nRequirement already satisfied: Jinja2<4,>=2.11 in /databricks/python3/lib/python3.10/site-packages (from mlflow) (3.1.2)\nCollecting Flask<4\n  Downloading flask-3.0.3-py3-none-any.whl (101 kB)\n     ━━━━━━━━━━━━━━━━━━━━━━━━━━━━━━━━━━━━━━ 101.7/101.7 kB 18.1 MB/s eta 0:00:00\nCollecting mlflow-skinny==2.15.1\n  Downloading mlflow_skinny-2.15.1-py3-none-any.whl (5.5 MB)\n     ━━━━━━━━━━━━━━━━━━━━━━━━━━━━━━━━━━━━━━━━ 5.5/5.5 MB 52.4 MB/s eta 0:00:00\nRequirement already satisfied: pyarrow<16,>=4.0.0 in /databricks/python3/lib/python3.10/site-packages (from mlflow) (8.0.0)\nCollecting alembic!=1.10.0,<2\n  Downloading alembic-1.13.2-py3-none-any.whl (232 kB)\n     ━━━━━━━━━━━━━━━━━━━━━━━━━━━━━━━━━━━━━━ 233.0/233.0 kB 28.8 MB/s eta 0:00:00\nRequirement already satisfied: scikit-learn<2 in /databricks/python3/lib/python3.10/site-packages (from mlflow) (1.1.1)\nRequirement already satisfied: matplotlib<4 in /databricks/python3/lib/python3.10/site-packages (from mlflow) (3.7.0)\nRequirement already satisfied: sqlalchemy<3,>=1.4.0 in /local_disk0/.ephemeral_nfs/envs/pythonEnv-dd8adaad-12f5-4248-803d-17cdd89bc16e/lib/python3.10/site-packages (from mlflow) (2.0.32)\nRequirement already satisfied: numpy<2 in /databricks/python3/lib/python3.10/site-packages (from mlflow) (1.23.5)\nRequirement already satisfied: scipy<2 in /databricks/python3/lib/python3.10/site-packages (from mlflow) (1.10.0)\nCollecting docker<8,>=4.0.0\n  Downloading docker-7.1.0-py3-none-any.whl (147 kB)\n     ━━━━━━━━━━━━━━━━━━━━━━━━━━━━━━━━━━━━━━ 147.8/147.8 kB 21.9 MB/s eta 0:00:00\nRequirement already satisfied: pandas<3 in /databricks/python3/lib/python3.10/site-packages (from mlflow) (1.5.3)\nCollecting graphene<4\n  Downloading graphene-3.3-py2.py3-none-any.whl (128 kB)\n     ━━━━━━━━━━━━━━━━━━━━━━━━━━━━━━━━━━━━━━ 128.2/128.2 kB 20.9 MB/s eta 0:00:00\nCollecting opentelemetry-api<3,>=1.9.0\n  Downloading opentelemetry_api-1.26.0-py3-none-any.whl (61 kB)\n     ━━━━━━━━━━━━━━━━━━━━━━━━━━━━━━━━━━━━━━━━ 61.5/61.5 kB 7.0 MB/s eta 0:00:00\nRequirement already satisfied: pyyaml<7,>=5.1 in /local_disk0/.ephemeral_nfs/envs/pythonEnv-dd8adaad-12f5-4248-803d-17cdd89bc16e/lib/python3.10/site-packages (from mlflow-skinny==2.15.1->mlflow) (6.0.2)\nRequirement already satisfied: entrypoints<1 in /databricks/python3/lib/python3.10/site-packages (from mlflow-skinny==2.15.1->mlflow) (0.4)\nCollecting gitpython<4,>=3.1.9\n  Downloading GitPython-3.1.43-py3-none-any.whl (207 kB)\n     ━━━━━━━━━━━━━━━━━━━━━━━━━━━━━━━━━━━━━━ 207.3/207.3 kB 29.2 MB/s eta 0:00:00\nCollecting cloudpickle<4\n  Downloading cloudpickle-3.0.0-py3-none-any.whl (20 kB)\nRequirement already satisfied: pytz<2025 in /databricks/python3/lib/python3.10/site-packages (from mlflow-skinny==2.15.1->mlflow) (2022.7)\nRequirement already satisfied: click<9,>=7.0 in /databricks/python3/lib/python3.10/site-packages (from mlflow-skinny==2.15.1->mlflow) (8.0.4)\nRequirement already satisfied: protobuf<6,>=3.12.0 in /databricks/python3/lib/python3.10/site-packages (from mlflow-skinny==2.15.1->mlflow) (4.24.0)\nRequirement already satisfied: importlib-metadata!=4.7.0,<8,>=3.7.0 in /usr/lib/python3/dist-packages (from mlflow-skinny==2.15.1->mlflow) (4.6.4)\nRequirement already satisfied: packaging<25 in /databricks/python3/lib/python3.10/site-packages (from mlflow-skinny==2.15.1->mlflow) (23.2)\nRequirement already satisfied: requests<3,>=2.17.3 in /databricks/python3/lib/python3.10/site-packages (from mlflow-skinny==2.15.1->mlflow) (2.28.1)\nCollecting sqlparse<1,>=0.4.0\n  Downloading sqlparse-0.5.1-py3-none-any.whl (44 kB)\n     ━━━━━━━━━━━━━━━━━━━━━━━━━━━━━━━━━━━━━━━━ 44.2/44.2 kB 7.2 MB/s eta 0:00:00\nCollecting opentelemetry-sdk<3,>=1.9.0\n  Downloading opentelemetry_sdk-1.26.0-py3-none-any.whl (109 kB)\n     ━━━━━━━━━━━━━━━━━━━━━━━━━━━━━━━━━━━━━━ 109.5/109.5 kB 17.5 MB/s eta 0:00:00\nCollecting databricks-sdk<1,>=0.20.0\n  Downloading databricks_sdk-0.29.0-py3-none-any.whl (505 kB)\n     ━━━━━━━━━━━━━━━━━━━━━━━━━━━━━━━━━━━━━━ 505.6/505.6 kB 43.1 MB/s eta 0:00:00\nCollecting cachetools<6,>=5.0.0\n  Downloading cachetools-5.4.0-py3-none-any.whl (9.5 kB)\nCollecting Mako\n  Downloading Mako-1.3.5-py3-none-any.whl (78 kB)\n     ━━━━━━━━━━━━━━━━━━━━━━━━━━━━━━━━━━━━━━━━ 78.6/78.6 kB 14.0 MB/s eta 0:00:00\nRequirement already satisfied: typing-extensions>=4 in /local_disk0/.ephemeral_nfs/envs/pythonEnv-dd8adaad-12f5-4248-803d-17cdd89bc16e/lib/python3.10/site-packages (from alembic!=1.10.0,<2->mlflow) (4.12.2)\nRequirement already satisfied: urllib3>=1.26.0 in /databricks/python3/lib/python3.10/site-packages (from docker<8,>=4.0.0->mlflow) (1.26.14)\nCollecting itsdangerous>=2.1.2\n  Downloading itsdangerous-2.2.0-py3-none-any.whl (16 kB)\nCollecting click<9,>=7.0\n  Downloading click-8.1.7-py3-none-any.whl (97 kB)\n     ━━━━━━━━━━━━━━━━━━━━━━━━━━━━━━━━━━━━━━━━ 97.9/97.9 kB 16.7 MB/s eta 0:00:00\nCollecting blinker>=1.6.2\n  Downloading blinker-1.8.2-py3-none-any.whl (9.5 kB)\nCollecting Werkzeug>=3.0.0\n  Downloading werkzeug-3.0.3-py3-none-any.whl (227 kB)\n     ━━━━━━━━━━━━━━━━━━━━━━━━━━━━━━━━━━━━━━ 227.3/227.3 kB 27.3 MB/s eta 0:00:00\nCollecting graphql-core<3.3,>=3.1\n  Downloading graphql_core-3.2.3-py3-none-any.whl (202 kB)\n     ━━━━━━━━━━━━━━━━━━━━━━━━━━━━━━━━━━━━━━ 202.9/202.9 kB 26.8 MB/s eta 0:00:00\nCollecting graphql-relay<3.3,>=3.1\n  Downloading graphql_relay-3.2.0-py3-none-any.whl (16 kB)\nCollecting aniso8601<10,>=8\n  Downloading aniso8601-9.0.1-py2.py3-none-any.whl (52 kB)\n     ━━━━━━━━━━━━━━━━━━━━━━━━━━━━━━━━━━━━━━━━ 52.8/52.8 kB 7.7 MB/s eta 0:00:00\nRequirement already satisfied: MarkupSafe>=2.0 in /databricks/python3/lib/python3.10/site-packages (from Jinja2<4,>=2.11->mlflow) (2.1.1)\nRequirement already satisfied: cycler>=0.10 in /databricks/python3/lib/python3.10/site-packages (from matplotlib<4->mlflow) (0.11.0)\nRequirement already satisfied: pillow>=6.2.0 in /databricks/python3/lib/python3.10/site-packages (from matplotlib<4->mlflow) (9.4.0)\nRequirement already satisfied: python-dateutil>=2.7 in /databricks/python3/lib/python3.10/site-packages (from matplotlib<4->mlflow) (2.8.2)\nRequirement already satisfied: fonttools>=4.22.0 in /databricks/python3/lib/python3.10/site-packages (from matplotlib<4->mlflow) (4.25.0)\nRequirement already satisfied: contourpy>=1.0.1 in /databricks/python3/lib/python3.10/site-packages (from matplotlib<4->mlflow) (1.0.5)\nRequirement already satisfied: pyparsing>=2.3.1 in /databricks/python3/lib/python3.10/site-packages (from matplotlib<4->mlflow) (3.0.9)\nRequirement already satisfied: kiwisolver>=1.0.1 in /databricks/python3/lib/python3.10/site-packages (from matplotlib<4->mlflow) (1.4.4)\nRequirement already satisfied: six in /usr/lib/python3/dist-packages (from querystring-parser<2->mlflow) (1.16.0)\nRequirement already satisfied: joblib>=1.0.0 in /databricks/python3/lib/python3.10/site-packages (from scikit-learn<2->mlflow) (1.2.0)\nRequirement already satisfied: threadpoolctl>=2.0.0 in /databricks/python3/lib/python3.10/site-packages (from scikit-learn<2->mlflow) (2.2.0)\nRequirement already satisfied: greenlet!=0.4.17 in /local_disk0/.ephemeral_nfs/envs/pythonEnv-dd8adaad-12f5-4248-803d-17cdd89bc16e/lib/python3.10/site-packages (from sqlalchemy<3,>=1.4.0->mlflow) (3.0.3)\nCollecting google-auth~=2.0\n  Downloading google_auth-2.33.0-py2.py3-none-any.whl (200 kB)\n     ━━━━━━━━━━━━━━━━━━━━━━━━━━━━━━━━━━━━━━ 200.5/200.5 kB 24.9 MB/s eta 0:00:00\nCollecting gitdb<5,>=4.0.1\n  Downloading gitdb-4.0.11-py3-none-any.whl (62 kB)\n     ━━━━━━━━━━━━━━━━━━━━━━━━━━━━━━━━━━━━━━━━ 62.7/62.7 kB 10.9 MB/s eta 0:00:00\nCollecting deprecated>=1.2.6\n  Downloading Deprecated-1.2.14-py2.py3-none-any.whl (9.6 kB)\nCollecting importlib-metadata!=4.7.0,<8,>=3.7.0\n  Downloading importlib_metadata-7.2.1-py3-none-any.whl (25 kB)\nRequirement already satisfied: zipp>=0.5 in /usr/lib/python3/dist-packages (from importlib-metadata!=4.7.0,<8,>=3.7.0->mlflow-skinny==2.15.1->mlflow) (1.0.0)\nCollecting opentelemetry-semantic-conventions==0.47b0\n  Downloading opentelemetry_semantic_conventions-0.47b0-py3-none-any.whl (138 kB)\n     ━━━━━━━━━━━━━━━━━━━━━━━━━━━━━━━━━━━━━━ 138.0/138.0 kB 17.9 MB/s eta 0:00:00\nRequirement already satisfied: charset-normalizer<3,>=2 in /databricks/python3/lib/python3.10/site-packages (from requests<3,>=2.17.3->mlflow-skinny==2.15.1->mlflow) (2.0.4)\nRequirement already satisfied: certifi>=2017.4.17 in /databricks/python3/lib/python3.10/site-packages (from requests<3,>=2.17.3->mlflow-skinny==2.15.1->mlflow) (2022.12.7)\nRequirement already satisfied: idna<4,>=2.5 in /databricks/python3/lib/python3.10/site-packages (from requests<3,>=2.17.3->mlflow-skinny==2.15.1->mlflow) (3.4)\nCollecting wrapt<2,>=1.10\n  Downloading wrapt-1.16.0-cp310-cp310-manylinux_2_5_x86_64.manylinux1_x86_64.manylinux_2_17_x86_64.manylinux2014_x86_64.whl (80 kB)\n     ━━━━━━━━━━━━━━━━━━━━━━━━━━━━━━━━━━━━━━━━ 80.3/80.3 kB 13.7 MB/s eta 0:00:00\nCollecting smmap<6,>=3.0.1\n  Downloading smmap-5.0.1-py3-none-any.whl (24 kB)\nCollecting rsa<5,>=3.1.4\n  Downloading rsa-4.9-py3-none-any.whl (34 kB)\nCollecting pyasn1-modules>=0.2.1\n  Downloading pyasn1_modules-0.4.0-py3-none-any.whl (181 kB)\n     ━━━━━━━━━━━━━━━━━━━━━━━━━━━━━━━━━━━━━━ 181.2/181.2 kB 24.5 MB/s eta 0:00:00\nCollecting pyasn1<0.7.0,>=0.4.6\n  Downloading pyasn1-0.6.0-py2.py3-none-any.whl (85 kB)\n     ━━━━━━━━━━━━━━━━━━━━━━━━━━━━━━━━━━━━━━━━ 85.3/85.3 kB 12.2 MB/s eta 0:00:00\nInstalling collected packages: aniso8601, wrapt, Werkzeug, sqlparse, smmap, querystring-parser, pyasn1, markdown, Mako, itsdangerous, importlib-metadata, gunicorn, graphql-core, cloudpickle, click, cachetools, blinker, rsa, pyasn1-modules, graphql-relay, gitdb, Flask, docker, deprecated, alembic, opentelemetry-api, graphene, google-auth, gitpython, opentelemetry-semantic-conventions, databricks-sdk, opentelemetry-sdk, mlflow-skinny, mlflow\n  Attempting uninstall: importlib-metadata\n    Found existing installation: importlib-metadata 4.6.4\n    Not uninstalling importlib-metadata at /usr/lib/python3/dist-packages, outside environment /local_disk0/.ephemeral_nfs/envs/pythonEnv-dd8adaad-12f5-4248-803d-17cdd89bc16e\n    Can't uninstall 'importlib-metadata'. No files were found to uninstall.\n  Attempting uninstall: click\n    Found existing installation: click 8.0.4\n    Not uninstalling click at /databricks/python3/lib/python3.10/site-packages, outside environment /local_disk0/.ephemeral_nfs/envs/pythonEnv-dd8adaad-12f5-4248-803d-17cdd89bc16e\n    Can't uninstall 'click'. No files were found to uninstall.\n  Attempting uninstall: blinker\n    Found existing installation: blinker 1.4\n    Not uninstalling blinker at /usr/lib/python3/dist-packages, outside environment /local_disk0/.ephemeral_nfs/envs/pythonEnv-dd8adaad-12f5-4248-803d-17cdd89bc16e\n    Can't uninstall 'blinker'. No files were found to uninstall.\n  Attempting uninstall: databricks-sdk\n    Found existing installation: databricks-sdk 0.1.6\n    Not uninstalling databricks-sdk at /databricks/python3/lib/python3.10/site-packages, outside environment /local_disk0/.ephemeral_nfs/envs/pythonEnv-dd8adaad-12f5-4248-803d-17cdd89bc16e\n    Can't uninstall 'databricks-sdk'. No files were found to uninstall.\nSuccessfully installed Flask-3.0.3 Mako-1.3.5 Werkzeug-3.0.3 alembic-1.13.2 aniso8601-9.0.1 blinker-1.8.2 cachetools-5.4.0 click-8.1.7 cloudpickle-3.0.0 databricks-sdk-0.29.0 deprecated-1.2.14 docker-7.1.0 gitdb-4.0.11 gitpython-3.1.43 google-auth-2.33.0 graphene-3.3 graphql-core-3.2.3 graphql-relay-3.2.0 gunicorn-22.0.0 importlib-metadata-7.2.1 itsdangerous-2.2.0 markdown-3.6 mlflow-2.15.1 mlflow-skinny-2.15.1 opentelemetry-api-1.26.0 opentelemetry-sdk-1.26.0 opentelemetry-semantic-conventions-0.47b0 pyasn1-0.6.0 pyasn1-modules-0.4.0 querystring-parser-1.2.4 rsa-4.9 smmap-5.0.1 sqlparse-0.5.1 wrapt-1.16.0\n\u001B[43mNote: you may need to restart the kernel using dbutils.library.restartPython() to use updated packages.\u001B[0m\n"
     ]
    }
   ],
   "source": [
    "%pip install langchain_community\n",
    "%pip install mlflow"
   ]
  },
  {
   "cell_type": "code",
   "execution_count": 0,
   "metadata": {
    "application/vnd.databricks.v1+cell": {
     "cellMetadata": {
      "byteLimit": 2048000,
      "rowLimit": 10000
     },
     "inputWidgets": {},
     "nuid": "a8c010c2-1131-40ae-9a1c-23c7250259f2",
     "showTitle": false,
     "title": ""
    }
   },
   "outputs": [],
   "source": [
    "from langchain.chat_models import ChatDatabricks\n",
    "#llm=Databricks(endpoint_name=\"dbrx_instruct\",model_kwargs={\"temperature\":0.2, \"max_tokens\":100})\n",
    "llm = ChatDatabricks(endpoint=\"databricks-dbrx-instruct\")"
   ]
  },
  {
   "cell_type": "code",
   "execution_count": 0,
   "metadata": {
    "application/vnd.databricks.v1+cell": {
     "cellMetadata": {
      "byteLimit": 2048000,
      "rowLimit": 10000
     },
     "inputWidgets": {},
     "nuid": "f05cd447-246a-47c5-a057-8b1a8ab9fb7c",
     "showTitle": false,
     "title": ""
    }
   },
   "outputs": [],
   "source": [
    "llm_chain = LLMChain(\n",
    "    llm=llm,\n",
    "    prompt=prompt,\n",
    "    verbose=True,\n",
    "    memory=memory,\n",
    ")"
   ]
  },
  {
   "cell_type": "code",
   "execution_count": 0,
   "metadata": {
    "application/vnd.databricks.v1+cell": {
     "cellMetadata": {
      "byteLimit": 2048000,
      "rowLimit": 10000
     },
     "inputWidgets": {},
     "nuid": "1bed05c5-3b07-47ba-aee6-9271fb528791",
     "showTitle": false,
     "title": ""
    }
   },
   "outputs": [
    {
     "output_type": "stream",
     "name": "stdout",
     "output_type": "stream",
     "text": [
      "\n\n\u001B[1m> Entering new LLMChain chain...\u001B[0m\nPrompt after formatting:\n\u001B[32;1m\u001B[1;3mYou are a chatbot having a conversation with a human.\n\n\nHuman: Hi there my friend\nChatbot:\u001B[0m\n\n\u001B[1m> Finished chain.\u001B[0m\n"
     ]
    },
    {
     "output_type": "execute_result",
     "data": {
      "text/plain": [
       "\"Hello! I'm here to help answer your questions and provide information as best I can. How can I assist you today?\""
      ]
     },
     "execution_count": 28,
     "metadata": {},
     "output_type": "execute_result"
    }
   ],
   "source": [
    "llm_chain.predict(human_input=\"Hi there my friend\")"
   ]
  },
  {
   "cell_type": "code",
   "execution_count": 0,
   "metadata": {
    "application/vnd.databricks.v1+cell": {
     "cellMetadata": {
      "byteLimit": 2048000,
      "rowLimit": 10000
     },
     "inputWidgets": {},
     "nuid": "50a0276f-0d3b-44b9-8ee7-56ab8e8667b9",
     "showTitle": false,
     "title": ""
    }
   },
   "outputs": [
    {
     "output_type": "stream",
     "name": "stdout",
     "output_type": "stream",
     "text": [
      "\n\n\u001B[1m> Entering new LLMChain chain...\u001B[0m\nPrompt after formatting:\n\u001B[32;1m\u001B[1;3mYou are a chatbot having a conversation with a human.\n\nHuman: Hi there my friend\nAI: Hello! I'm here to help answer your questions and provide information as best I can. How can I assist you today?\nHuman: Not too bad - how are you?\nChatbot:\u001B[0m\n\n\u001B[1m> Finished chain.\u001B[0m\n"
     ]
    },
    {
     "output_type": "execute_result",
     "data": {
      "text/plain": [
       "\"I'm an artificial intelligence and don't have feelings, but I'm here and ready to assist you. How can I help you today?\""
      ]
     },
     "execution_count": 30,
     "metadata": {},
     "output_type": "execute_result"
    }
   ],
   "source": [
    "llm_chain.predict(human_input=\"Not too bad - how are you?\")"
   ]
  },
  {
   "cell_type": "code",
   "execution_count": 0,
   "metadata": {
    "application/vnd.databricks.v1+cell": {
     "cellMetadata": {
      "byteLimit": 2048000,
      "rowLimit": 10000
     },
     "inputWidgets": {},
     "nuid": "3a990187-2d4a-4f25-a3b8-257c3cc658fd",
     "showTitle": false,
     "title": ""
    }
   },
   "outputs": [
    {
     "output_type": "stream",
     "name": "stdout",
     "output_type": "stream",
     "text": [
      "\n\n\u001B[1m> Entering new LLMChain chain...\u001B[0m\nPrompt after formatting:\n\u001B[32;1m\u001B[1;3mYou are a chatbot having a conversation with a human.\n\nHuman: Hi there my friend\nAI: Hello! I'm here to help answer your questions and provide information as best I can. How can I assist you today?\nHuman: Not too bad - how are you?\nAI: I'm an artificial intelligence and don't have feelings, but I'm here and ready to assist you. How can I help you today?\nHuman: Whats the weather like in Washington,DC\nChatbot:\u001B[0m\n\n\u001B[1m> Finished chain.\u001B[0m\n"
     ]
    },
    {
     "output_type": "execute_result",
     "data": {
      "text/plain": [
       "\"I don't have real-time data access, so I can't provide the current weather in Washington, DC. I recommend checking a reliable weather forecasting website or app for the most accurate and up-to-date information.\\n\\nLet me know if you have any other questions!\""
      ]
     },
     "execution_count": 34,
     "metadata": {},
     "output_type": "execute_result"
    }
   ],
   "source": [
    "llm_chain.predict(human_input=\"Whats the weather like in Washington,DC\")"
   ]
  },
  {
   "cell_type": "code",
   "execution_count": 0,
   "metadata": {
    "application/vnd.databricks.v1+cell": {
     "cellMetadata": {
      "byteLimit": 2048000,
      "rowLimit": 10000
     },
     "inputWidgets": {},
     "nuid": "a2ee5b14-8437-4a19-bdd1-fca45eae6ec7",
     "showTitle": false,
     "title": ""
    }
   },
   "outputs": [
    {
     "output_type": "stream",
     "name": "stdout",
     "output_type": "stream",
     "text": [
      "\n\n\u001B[1m> Entering new LLMChain chain...\u001B[0m\nPrompt after formatting:\n\u001B[32;1m\u001B[1;3mYou are a chatbot having a conversation with a human.\n\nHuman: Hi there my friend\nAI: Hello! I'm here to help answer your questions and provide information as best I can. How can I assist you today?\nHuman: Not too bad - how are you?\nAI: I'm an artificial intelligence and don't have feelings, but I'm here and ready to assist you. How can I help you today?\nHuman: Whats the weather like in Washington,DC\nAI: I don't have real-time data access, so I can't provide the current weather in Washington, DC. I recommend checking a reliable weather forecasting website or app for the most accurate and up-to-date information.\n\nLet me know if you have any other questions!\nHuman: What is ML?\nChatbot:\u001B[0m\n\n\u001B[1m> Finished chain.\u001B[0m\n"
     ]
    },
    {
     "output_type": "execute_result",
     "data": {
      "text/plain": [
       "'ML stands for Machine Learning, which is a type of artificial intelligence (AI) that allows computer systems to automatically improve their performance in a specific task through experience. It involves the use of algorithms that enable machines to learn from data, identify patterns and make decisions or predictions with minimal human intervention. Machine learning has a wide range of applications, including image and speech recognition, natural language processing, and predictive modeling.'"
      ]
     },
     "execution_count": 36,
     "metadata": {},
     "output_type": "execute_result"
    }
   ],
   "source": [
    "llm_chain.predict(human_input=\"What is ML?\")"
   ]
  }
 ],
 "metadata": {
  "application/vnd.databricks.v1+notebook": {
   "dashboards": [],
   "environmentMetadata": null,
   "language": "python",
   "notebookMetadata": {
    "pythonIndentUnit": 2
   },
   "notebookName": "Memorybot",
   "widgets": {}
  }
 },
 "nbformat": 4,
 "nbformat_minor": 0
}
